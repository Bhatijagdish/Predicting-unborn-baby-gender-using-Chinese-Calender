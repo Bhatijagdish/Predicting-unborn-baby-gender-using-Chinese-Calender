{
 "cells": [
  {
   "cell_type": "code",
   "execution_count": 126,
   "metadata": {},
   "outputs": [],
   "source": [
    "#Creating a machine to predict unborn baby's gender using chinese calender.\n",
    "\n",
    "import pandas as pd\n",
    "from datetime import date\n",
    "\n",
    "#reading dataset using pandas library \n",
    "#Dateset will predict gender depending upon mother's age and coception month.\n",
    "calender = pd.read_csv('ChineseCalender.csv', index_col=[0])",
    "#Machine Learning Algorithms will be applied later.\n"
   ]
  },
  
  {
   "cell_type": "code",
   "execution_count": 127,
   "metadata": {},
   "outputs": [
    {
     "name": "stdout",
     "output_type": "stream",
     "text": [
      "Would you like to predict your unborn baby's gender?y\n",
      "Kindly enter your birth year (numbers only):1999\n",
      "Which month were you born in? (numbers only): 2\n",
      "Your date of birth (numbers only): 2\n"
     ]
    }
   ],
   "source": [
    "#taking inputs from mothers' to identify their DOB and LMP.\n",
    "inp = input(\"Would you like to predict your unborn baby's gender?\")\n",
    "if inp == \"Y\"or\"y\"or\"yes\"or\"YES\"or\"Yeah\"or\"YEAH\":\n",
    "    year = int(input(\"Kindly enter your birth year (numbers only):\"))\n",
    "    month = int(input(\"Which month were you born in? (numbers only): \"))\n",
    "    day= int(input(\"Your date of birth (numbers only): \"))\n",
    "    today = date.today()\n",
    "else:\n",
    "    print(\"You can try again whenever you're ready to check your unborn baby's gender\")"
   ]
  },
  {
   "cell_type": "code",
   "execution_count": 128,
   "metadata": {},
   "outputs": [
    {
     "name": "stdout",
     "output_type": "stream",
     "text": [
      "Your current age is  22\n"
     ]
    }
   ],
   "source": [
    "#applying formula to calculate the monther's age.\n",
    "if (today.month - month < 0) or (today.day - day < 0):\n",
    "    extra_year = 1\n",
    "else:\n",
    "    extra_year = 0\n",
    "\n",
    "age = (today.year - year) - extra_year\n",
    "print (\"Your current age is \",age)"
   ]
  },
  {
   "cell_type": "code",
   "execution_count": 129,
   "metadata": {},
   "outputs": [
    {
     "name": "stdout",
     "output_type": "stream",
     "text": [
      "Enter your month of conception (LMP) (numbers only): 7\n"
     ]
    }
   ],
   "source": [
    "LMP = int(input(\"Enter your month of conception (LMP) (numbers only): \"))"
   ]
  },
  {
   "cell_type": "code",
   "execution_count": 130,
   "metadata": {},
   "outputs": [
    {
     "data": {
      "text/plain": [
       "'Boy'"
      ]
     },
     "execution_count": 130,
     "metadata": {},
     "output_type": "execute_result"
    }
   ],
   "source": [
    "#Finally find the prediction using rowlabels and column labels.\n",
    "Predict = calender.iloc[LMP].at[str(age)]\n",
    "print(\"Lovely! you will most likely have a\", Predict.)"
   ]
  },
  {
   "cell_type": "code",
   "execution_count": null,
   "metadata": {},
   "outputs": [],
   "source": []
  }
 ],
 "metadata": {
  "kernelspec": {
   "display_name": "Python 3",
   "language": "python",
   "name": "python3"
  },
  "language_info": {
   "codemirror_mode": {
    "name": "ipython",
    "version": 3
   },
   "file_extension": ".py",
   "mimetype": "text/x-python",
   "name": "python",
   "nbconvert_exporter": "python",
   "pygments_lexer": "ipython3",
   "version": "3.8.5"
  }
 },
 "nbformat": 4,
 "nbformat_minor": 4
}
